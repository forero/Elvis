{
 "metadata": {
  "name": ""
 },
 "nbformat": 3,
 "nbformat_minor": 0,
 "worksheets": [
  {
   "cells": [
    {
     "cell_type": "code",
     "collapsed": false,
     "input": [
      "%pylab inline"
     ],
     "language": "python",
     "metadata": {},
     "outputs": [
      {
       "output_type": "stream",
       "stream": "stdout",
       "text": [
        "Populating the interactive namespace from numpy and matplotlib\n"
       ]
      }
     ],
     "prompt_number": 49
    },
    {
     "cell_type": "code",
     "collapsed": false,
     "input": [
      "data_path=\"../data/PairedTrees/OrionTaurus/\""
     ],
     "language": "python",
     "metadata": {},
     "outputs": [],
     "prompt_number": 50
    },
    {
     "cell_type": "code",
     "collapsed": false,
     "input": [
      "x=loadtxt(data_path+\"Mvir.txt\")\n",
      "y=loadtxt(data_path+\"scale.txt\")"
     ],
     "language": "python",
     "metadata": {},
     "outputs": [],
     "prompt_number": 51
    },
    {
     "cell_type": "code",
     "collapsed": false,
     "input": [
      "plot(y[10,:-10],x[10,:-10])"
     ],
     "language": "python",
     "metadata": {},
     "outputs": [
      {
       "metadata": {},
       "output_type": "pyout",
       "prompt_number": 52,
       "text": [
        "[<matplotlib.lines.Line2D at 0x10cb8bf50>]"
       ]
      },
      {
       "metadata": {},
       "output_type": "display_data",
       "png": "[encoded data removed]",
       "text": [
        "<matplotlib.figure.Figure at 0x10c712490>"
       ]
      }
     ],
     "prompt_number": 52
    },
    {
     "cell_type": "code",
     "collapsed": false,
     "input": [
      "data_path=\"../data/PairedCatalogs/\""
     ],
     "language": "python",
     "metadata": {},
     "outputs": [],
     "prompt_number": 53
    },
    {
     "cell_type": "code",
     "collapsed": false,
     "input": [
      "import glob\n",
      "files = glob.glob(\"../data/PairedCatalogs/*.txt\")"
     ],
     "language": "python",
     "metadata": {},
     "outputs": [],
     "prompt_number": 54
    },
    {
     "cell_type": "code",
     "collapsed": false,
     "input": [
      "for i in files:\n",
      "    print i\n",
      "    data = loadtxt(i)\n",
      "    gal_1_pos = data[0,1:4]\n",
      "    gal_1_vel = data[0,4:7]\n",
      "    gal_2_pos = data[1,1:4]\n",
      "    gal_2_vel = data[1,4:7]\n",
      "    \n",
      "    gal_2_pos = gal_2_pos-gal_1_pos\n",
      "    gal_2_vel = (gal_2_vel-gal_1_vel) + 70.0 * gal_2_pos \n",
      "    \n",
      "    radial_vel_mag  = sum(gal_2_vel * gal_2_pos)/sqrt(sum(gal_2_pos*gal_2_pos))  \n",
      "    radial_vel = sqrt(sum(radial_vel_vec*radial_vel_vec))\n",
      "    vel_mag = sqrt(sum(gal_2_vel*gal_2_vel))\n",
      "#    tangential_vel = sqrt(sum(tangential_vel_vec*tangential_vel_vec))\n",
      "    print radial_vel_mag, vel_mag, sqrt(sum(gal_2_pos*gal_2_pos))"
     ],
     "language": "python",
     "metadata": {},
     "outputs": [
      {
       "output_type": "stream",
       "stream": "stdout",
       "text": [
        "../data/PairedCatalogs/HallOates.txt\n",
        "-9.91159482804"
       ]
      },
      {
       "output_type": "stream",
       "stream": "stdout",
       "text": [
        " 44.8041861378 0.97953946337\n",
        "../data/PairedCatalogs/HamiltonBurr.txt\n",
        "-18.9403630288"
       ]
      },
      {
       "output_type": "stream",
       "stream": "stdout",
       "text": [
        " 42.1930877805 0.941269834054\n",
        "../data/PairedCatalogs/KekKauket.txt\n",
        "-33.3494101348"
       ]
      },
      {
       "output_type": "stream",
       "stream": "stdout",
       "text": [
        " 50.982317929 1.03977486549\n",
        "../data/PairedCatalogs/LincolnDouglas.txt\n",
        "-87.4052657149"
       ]
      },
      {
       "output_type": "stream",
       "stream": "stdout",
       "text": [
        " 97.1673077252 0.780421424168\n",
        "../data/PairedCatalogs/OrionTaurus.txt\n",
        "-70.6751251167"
       ]
      },
      {
       "output_type": "stream",
       "stream": "stdout",
       "text": [
        " 94.5938055005 0.829265518034\n",
        "../data/PairedCatalogs/RomulusRemus.txt\n",
        "-21.2984175257"
       ]
      },
      {
       "output_type": "stream",
       "stream": "stdout",
       "text": [
        " 25.0652604255 0.935386646259\n",
        "../data/PairedCatalogs/ScyllaCharybdis.txt\n",
        "-21.8030858036"
       ]
      },
      {
       "output_type": "stream",
       "stream": "stdout",
       "text": [
        " 134.178159354 0.705148831524\n",
        "../data/PairedCatalogs/SerenaVenus.txt\n",
        "-109.688853392"
       ]
      },
      {
       "output_type": "stream",
       "stream": "stdout",
       "text": [
        " 130.652984289 0.687410309931\n",
        "../data/PairedCatalogs/SiegfriedRoy.txt\n",
        "-69.3700611816"
       ]
      },
      {
       "output_type": "stream",
       "stream": "stdout",
       "text": [
        " 90.1910777003 0.877629410742\n",
        "../data/PairedCatalogs/SonnyCher.txt\n",
        "-105.910622659"
       ]
      },
      {
       "output_type": "stream",
       "stream": "stdout",
       "text": [
        " 113.945402156 0.966247828562\n",
        "../data/PairedCatalogs/ThelmaLouise.txt\n",
        "-53.1974104452"
       ]
      },
      {
       "output_type": "stream",
       "stream": "stdout",
       "text": [
        " 54.3264685337 0.832201980651\n",
        "../data/PairedCatalogs/ZeusHera.txt\n",
        "-158.988001242"
       ]
      },
      {
       "output_type": "stream",
       "stream": "stdout",
       "text": [
        " 235.385146302 0.595187880085\n"
       ]
      }
     ],
     "prompt_number": 64
    },
    {
     "cell_type": "code",
     "collapsed": false,
     "input": [
      "for i in files:\n",
      "    print i\n",
      "    data = loadtxt(i)\n",
      "    gal_1_pos = data[0,1:4]\n",
      "    gal_1_vel = data[0,4:7]\n",
      "    gal_2_pos = data[1,1:4]\n",
      "    gal_2_vel = data[1,4:7]\n",
      "    \n",
      "    gal_2_vel = gal_2_vel-gal_1_vel\n",
      "    gal_2_pos = gal_2_pos-gal_1_pos\n",
      "    radial_vel_vec = (gal_2_vel * gal_2_pos)/sqrt(sum(gal_2_pos*gal_2_pos))\n",
      "    tangential_vel_vec = gal_2_vel - radial_vel_vec\n",
      "    radial_vel = sqrt(sum(radial_vel_vec*radial_vel_vec)) + 70.0 * sqrt(sum(gal_2_pos*gal_2_pos))\n",
      "    tangential_vel = sqrt(sum(tangential_vel_vec*tangential_vel_vec))\n",
      "    print radial_vel, tangential_vel"
     ],
     "language": "python",
     "metadata": {},
     "outputs": [
      {
       "output_type": "stream",
       "stream": "stdout",
       "text": [
        "../data/PairedCatalogs/HallOates.txt\n",
        "148.904482115"
       ]
      },
      {
       "output_type": "stream",
       "stream": "stdout",
       "text": [
        " 38.3574601106\n",
        "../data/PairedCatalogs/HamiltonBurr.txt\n",
        "122.747746875"
       ]
      },
      {
       "output_type": "stream",
       "stream": "stdout",
       "text": [
        " 47.4019068725\n",
        "../data/PairedCatalogs/KekKauket.txt\n",
        "146.864138752"
       ]
      },
      {
       "output_type": "stream",
       "stream": "stdout",
       "text": [
        " 162.590321537\n",
        "../data/PairedCatalogs/LincolnDouglas.txt\n",
        "155.950074478"
       ]
      },
      {
       "output_type": "stream",
       "stream": "stdout",
       "text": [
        " 134.403593403\n",
        "../data/PairedCatalogs/OrionTaurus.txt\n",
        "143.814903378"
       ]
      },
      {
       "output_type": "stream",
       "stream": "stdout",
       "text": [
        " 88.9770965396\n",
        "../data/PairedCatalogs/RomulusRemus.txt\n",
        "126.420560649"
       ]
      },
      {
       "output_type": "stream",
       "stream": "stdout",
       "text": [
        " 76.0660129567\n",
        "../data/PairedCatalogs/ScyllaCharybdis.txt\n",
        "153.6876467"
       ]
      },
      {
       "output_type": "stream",
       "stream": "stdout",
       "text": [
        " 46.2924567695\n",
        "../data/PairedCatalogs/SerenaVenus.txt\n",
        "191.688916228"
       ]
      },
      {
       "output_type": "stream",
       "stream": "stdout",
       "text": [
        " 307.552402965\n",
        "../data/PairedCatalogs/SiegfriedRoy.txt\n",
        "170.192812907"
       ]
      },
      {
       "output_type": "stream",
       "stream": "stdout",
       "text": [
        " 85.5983395898\n",
        "../data/PairedCatalogs/SonnyCher.txt\n",
        "197.810070833"
       ]
      },
      {
       "output_type": "stream",
       "stream": "stdout",
       "text": [
        " 306.317853652\n",
        "../data/PairedCatalogs/ThelmaLouise.txt\n",
        "150.333629051 192.463014629\n",
        "../data/PairedCatalogs/ZeusHera.txt\n",
        "240.877260207"
       ]
      },
      {
       "output_type": "stream",
       "stream": "stdout",
       "text": [
        " 154.877720609\n"
       ]
      }
     ],
     "prompt_number": 38
    },
    {
     "cell_type": "code",
     "collapsed": false,
     "input": [],
     "language": "python",
     "metadata": {},
     "outputs": []
    }
   ],
   "metadata": {}
  }
 ]
}